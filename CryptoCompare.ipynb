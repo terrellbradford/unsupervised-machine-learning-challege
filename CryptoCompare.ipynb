{
 "cells": [
  {
   "cell_type": "code",
   "execution_count": 964,
   "source": [
    "#T. Bradford \r\n",
    "#October 2021\r\n",
    "\r\n",
    "#dependents \r\n",
    "import pandas as pd\r\n",
    "from pathlib import Path\r\n",
    "from sklearn.preprocessing import StandardScaler\r\n",
    "from sklearn.decomposition import PCA\r\n",
    "from sklearn.manifold import TSNE\r\n",
    "from sklearn.cluster import KMeans\r\n",
    "import matplotlib.pyplot as plt\r\n",
    "from sklearn.linear_model import LogisticRegression\r\n",
    "from sklearn.model_selection import train_test_split\r\n",
    "from sklearn.metrics import confusion_matrix, classification_report\r\n",
    "from sklearn.preprocessing import StandardScaler, MinMaxScaler, LabelEncoder\r\n",
    "from sklearn.ensemble import RandomForestClassifier\r\n",
    "from sklearn.datasets import make_classification"
   ],
   "outputs": [],
   "metadata": {}
  }